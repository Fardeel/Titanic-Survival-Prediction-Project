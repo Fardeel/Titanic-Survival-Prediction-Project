{
 "cells": [
  {
   "cell_type": "code",
   "execution_count": null,
   "id": "d20cf2ad-c3f0-4071-ad71-794cadc5dbca",
   "metadata": {},
   "outputs": [],
   "source": [
    "import pandas as pd\n",
    "import numpy as np\n",
    "import seaborn as sns\n",
    "import matplotlib.pyplot as plt\n",
    "\n",
    "from sklearn.model_selection import train_test_split, cross_val_score\n",
    "from sklearn.preprocessing import LabelEncoder\n",
    "from sklearn.metrics import accuracy_score, confusion_matrix, classification_report\n",
    "from sklearn.linear_model import LogisticRegression\n",
    "from sklearn.tree import DecisionTreeClassifier, plot_tree"
   ]
  },
  {
   "cell_type": "code",
   "execution_count": null,
   "id": "f690537b-8019-4e9d-b7bc-67102e6fd9be",
   "metadata": {},
   "outputs": [],
   "source": [
    "df = pd.read_csv(\"titanic.csv\")\n",
    "#test = pd.read_csv(\"test.csv\")"
   ]
  },
  {
   "cell_type": "code",
   "execution_count": null,
   "id": "2e665f7f-a40e-46fa-8db5-8bd4ab5b8cee",
   "metadata": {},
   "outputs": [],
   "source": [
    "\n",
    "print(df.head())\n",
    "print(df.info())"
   ]
  },
  {
   "cell_type": "markdown",
   "id": "a7349c26-701f-45df-9d87-900b64bf6ef0",
   "metadata": {},
   "source": [
    "# Data Preprocessing"
   ]
  },
  {
   "cell_type": "code",
   "execution_count": null,
   "id": "000ace66-a39e-43c0-90bc-dc5d03eb5d9f",
   "metadata": {},
   "outputs": [],
   "source": [
    "df['Age'].fillna(df['Age'].median(), inplace=True) # Fill missing Age with median\n",
    "df['Embarked'].fillna(df['Embarked'].mode()[0], inplace=True)# fill missing Embarked with mode"
   ]
  },
  {
   "cell_type": "code",
   "execution_count": null,
   "id": "f979bb0e-54c1-41c1-9223-978d1d99579b",
   "metadata": {},
   "outputs": [],
   "source": [
    "df.drop(columns=['Cabin'], inplace=True) # Drop Cabin due to too many missing values"
   ]
  },
  {
   "cell_type": "code",
   "execution_count": null,
   "id": "442c374f-872c-453b-9203-2f4797940b54",
   "metadata": {},
   "outputs": [],
   "source": [
    "# Encode categorical variables\n",
    "label = LabelEncoder()\n",
    "df['Sex'] = label.fit_transform(df['Sex'])\n",
    "df['Embarked'] = label.fit_transform(df['Embarked'])"
   ]
  },
  {
   "cell_type": "markdown",
   "id": "2ad81134-d850-4df4-9a23-b9ad475cd2d8",
   "metadata": {},
   "source": [
    "# Feature Engineering"
   ]
  },
  {
   "cell_type": "code",
   "execution_count": null,
   "id": "86fab15c-e6a4-4833-b11d-efe7bb7443a9",
   "metadata": {},
   "outputs": [],
   "source": [
    "# Family size\n",
    "df['FamilySize'] = df['SibSp'] + df['Parch'] + 1\n",
    "df['IsAlone'] = (df['FamilySize'] == 1).astype(int)\n"
   ]
  },
  {
   "cell_type": "code",
   "execution_count": null,
   "id": "bfe604d7-c3b6-4321-832d-da0e2537d06e",
   "metadata": {},
   "outputs": [],
   "source": [
    "from sklearn.preprocessing import LabelEncoder\n",
    "\n",
    "# Extract Title\n",
    "df['Title'] = df['Name'].str.extract(r' ([A-Za-z]+)\\.', expand=False)\n",
    "\n",
    "# Replace uncommon titles with 'Rare'\n",
    "df['Title'] = df['Title'].replace(['Lady','Countess','Capt','Col','Don','Dr',\n",
    "                                   'Major','Rev','Sir','Jonkheer','Dona'],'Rare')\n",
    "\n",
    "# Normalize similar titles\n",
    "df['Title'] = df['Title'].replace({'Mlle':'Miss','Ms':'Miss','Mme':'Mrs'})\n",
    "\n",
    "# Encode Titles numerically\n",
    "le = LabelEncoder()\n",
    "df['Title'] = le.fit_transform(df['Title'])\n"
   ]
  },
  {
   "cell_type": "code",
   "execution_count": null,
   "id": "2580098a-fe6c-4fff-8a1a-a9b4fa5d0226",
   "metadata": {},
   "outputs": [],
   "source": [
    "# Drop unnecessary columns\n",
    "df.drop(columns=['Name','Ticket','PassengerId'], inplace=True)"
   ]
  },
  {
   "cell_type": "code",
   "execution_count": null,
   "id": "4e094c68-c3a6-4b17-ba4d-85069be769a5",
   "metadata": {},
   "outputs": [],
   "source": [
    "print(df.head())"
   ]
  },
  {
   "cell_type": "code",
   "execution_count": null,
   "id": "17c3f4d8-740a-4854-a685-d9c4c7d1fe5a",
   "metadata": {},
   "outputs": [],
   "source": []
  },
  {
   "cell_type": "markdown",
   "id": "dc631799-c66d-412b-8079-509d71fe56ac",
   "metadata": {},
   "source": [
    "### Train-Test Split"
   ]
  },
  {
   "cell_type": "code",
   "execution_count": null,
   "id": "85cf4da1-4437-4a66-8fc6-63029680f5ab",
   "metadata": {},
   "outputs": [],
   "source": [
    "X = df.drop('Survived', axis=1)\n",
    "y = df['Survived']\n",
    "\n",
    "X_train, X_val, y_train, y_val = train_test_split(X, y, test_size=0.2, random_state=42)"
   ]
  },
  {
   "cell_type": "code",
   "execution_count": null,
   "id": "9fa2b784-0ef1-438f-8d6f-f188b5e3b9c4",
   "metadata": {},
   "outputs": [],
   "source": [
    "from sklearn.preprocessing import StandardScaler\n",
    "\n",
    "scaler = StandardScaler()\n",
    "X_train_scaled = scaler.fit_transform(X_train)\n",
    "X_test_scaled = scaler.transform(X_val)\n",
    "\n"
   ]
  },
  {
   "cell_type": "code",
   "execution_count": null,
   "id": "ee4f8098-6cb9-44ab-b63c-b684277e292f",
   "metadata": {},
   "outputs": [],
   "source": [
    "### Logistic Regression"
   ]
  },
  {
   "cell_type": "code",
   "execution_count": null,
   "id": "3dd16544-6509-454b-80d7-0b701484edd5",
   "metadata": {},
   "outputs": [],
   "source": [
    "log_reg = LogisticRegression(max_iter=1000)\n",
    "log_reg.fit(X_train, y_train)\n",
    "y_pred_lr = log_reg.predict(X_val)"
   ]
  },
  {
   "cell_type": "code",
   "execution_count": null,
   "id": "f12bee33-389b-40b8-af6a-21a3c3f66248",
   "metadata": {},
   "outputs": [],
   "source": [
    "\n",
    "print(\"Logistic Regression Accuracy:\", accuracy_score(y_val, y_pred_lr))\n",
    "print(classification_report(y_val, y_pred_lr))\n"
   ]
  },
  {
   "cell_type": "code",
   "execution_count": null,
   "id": "e98cb6d4-55d8-47a6-a81b-9422f14fb599",
   "metadata": {},
   "outputs": [],
   "source": [
    "### Decision Tree"
   ]
  },
  {
   "cell_type": "code",
   "execution_count": null,
   "id": "804e33a7-4f26-4d90-8b67-f40bbf615169",
   "metadata": {},
   "outputs": [],
   "source": [
    "dt = DecisionTreeClassifier(max_depth=4, random_state=42)\n",
    "dt.fit(X_train, y_train)\n",
    "y_pred_dt = dt.predict(X_val)\n"
   ]
  },
  {
   "cell_type": "code",
   "execution_count": null,
   "id": "da963dbe-d5cb-4868-bb75-6cbf4cdae6a2",
   "metadata": {},
   "outputs": [],
   "source": [
    "\n",
    "print(\"Decision Tree Accuracy:\", accuracy_score(y_val, y_pred_dt))\n",
    "print(classification_report(y_val, y_pred_dt))\n"
   ]
  },
  {
   "cell_type": "code",
   "execution_count": null,
   "id": "329e1d2c-21ef-4b6c-a8e2-be8008f6db40",
   "metadata": {},
   "outputs": [],
   "source": [
    "#### plot Decision Tree"
   ]
  },
  {
   "cell_type": "code",
   "execution_count": null,
   "id": "6fb273ed-2b13-48d2-bbf0-7e3074803d73",
   "metadata": {},
   "outputs": [],
   "source": [
    "plt.figure(figsize=(16,10))\n",
    "plot_tree(dt, feature_names=X.columns, class_names=['Died','Survived'], filled=True)\n",
    "plt.show()"
   ]
  },
  {
   "cell_type": "code",
   "execution_count": null,
   "id": "a1d20d94-f354-4668-8b4f-fe68d8cdcfa7",
   "metadata": {},
   "outputs": [],
   "source": [
    "from sklearn.ensemble import RandomForestClassifier"
   ]
  },
  {
   "cell_type": "code",
   "execution_count": null,
   "id": "ab98e0bc-df3c-40f6-8fed-c182d59f2f27",
   "metadata": {},
   "outputs": [],
   "source": [
    "rf = RandomForestClassifier(n_estimators=100, random_state=42)\n",
    "rf.fit(X_train, y_train)\n",
    "y_pred_rf = rf.predict(X_val)"
   ]
  },
  {
   "cell_type": "code",
   "execution_count": null,
   "id": "6da5bafc-3415-418b-990e-c9003d11e319",
   "metadata": {},
   "outputs": [],
   "source": [
    "print(\"Accuracy:\", accuracy_score(y_val, y_pred_rf))\n",
    "print(classification_report(y_val, y_pred_rf))"
   ]
  },
  {
   "cell_type": "code",
   "execution_count": null,
   "id": "000e72bf-a11f-4834-a8bb-1e9296662e40",
   "metadata": {},
   "outputs": [],
   "source": [
    "### Linear Regression"
   ]
  },
  {
   "cell_type": "code",
   "execution_count": null,
   "id": "8cc1742f-66ee-4d88-b6f8-52caf0033cb4",
   "metadata": {},
   "outputs": [],
   "source": [
    "from sklearn.linear_model import  LinearRegression"
   ]
  },
  {
   "cell_type": "code",
   "execution_count": null,
   "id": "2c95c12d-ec2e-4fbf-90ab-56df0a5e5a5a",
   "metadata": {},
   "outputs": [],
   "source": [
    "lin_reg = LinearRegression()\n",
    "lin_reg.fit(X_train, y_train)\n",
    "y_pred_lin = np.round(lin_reg.predict(X_val)) \n"
   ]
  },
  {
   "cell_type": "code",
   "execution_count": null,
   "id": "b3eba52c-8580-49f7-a446-cd46cca149ee",
   "metadata": {},
   "outputs": [],
   "source": [
    "print(\"Accuracy:\", accuracy_score(y_val, y_pred_lin))\n",
    "print(classification_report(y_val, y_pred_lin))"
   ]
  },
  {
   "cell_type": "code",
   "execution_count": null,
   "id": "dc880d4b-f28a-42b8-8684-8e41d0aadd07",
   "metadata": {},
   "outputs": [],
   "source": [
    "from xgboost import XGBClassifier"
   ]
  },
  {
   "cell_type": "code",
   "execution_count": null,
   "id": "34f4aec6-5fe2-447a-a069-348cd68b2c31",
   "metadata": {},
   "outputs": [],
   "source": [
    "xgb = XGBClassifier( eval_metric='logloss', random_state=42)\n",
    "xgb.fit(X_train, y_train)\n",
    "y_pred_xgb = xgb.predict(X_val)\n"
   ]
  },
  {
   "cell_type": "code",
   "execution_count": null,
   "id": "6bd3c084-8f22-4fb1-a0b6-923aec81fe94",
   "metadata": {},
   "outputs": [],
   "source": [
    "print(\"Accuracy:\", accuracy_score(y_val, y_pred_xgb))\n",
    "print(classification_report(y_val, y_pred_xgb))"
   ]
  },
  {
   "cell_type": "code",
   "execution_count": null,
   "id": "3f21d4bb-0fd9-47fa-950b-c602f4f8992c",
   "metadata": {},
   "outputs": [],
   "source": [
    "### Confusion Matrices"
   ]
  },
  {
   "cell_type": "code",
   "execution_count": null,
   "id": "0a19305b-180b-409c-97a1-f5a2b1aa7da4",
   "metadata": {},
   "outputs": [],
   "source": [
    "fig, axes = plt.subplots(3, 2, figsize=(14,12))  \n",
    "axes = axes.flatten()  # make indexing easy\n",
    "\n",
    "# Logistic Regression\n",
    "sns.heatmap(confusion_matrix(y_val, y_pred_lr), annot=True, fmt=\"d\", cmap=\"Blues\", ax=axes[0])\n",
    "axes[0].set_title(\"Logistic Regression\")\n",
    "\n",
    "# Decision Tree\n",
    "sns.heatmap(confusion_matrix(y_val, y_pred_dt), annot=True, fmt=\"d\", cmap=\"Greens\", ax=axes[1])\n",
    "axes[1].set_title(\"Decision Tree\")\n",
    "\n",
    "# Random Forest\n",
    "sns.heatmap(confusion_matrix(y_val, y_pred_rf), annot=True, fmt=\"d\", cmap=\"Oranges\", ax=axes[2])\n",
    "axes[2].set_title(\"Random Forest\")\n",
    "\n",
    "# XGBoost\n",
    "sns.heatmap(confusion_matrix(y_val, y_pred_xgb), annot=True, fmt=\"d\", cmap=\"Purples\", ax=axes[3])\n",
    "axes[3].set_title(\"XGBoost\")\n",
    "\n",
    "# Linear Regression\n",
    "sns.heatmap(confusion_matrix(y_val, y_pred_lin), annot=True, fmt=\"d\", cmap=\"Reds\", ax=axes[4])\n",
    "axes[4].set_title(\"Linear Regression\")\n",
    "\n",
    "\n",
    "fig.delaxes(axes[5])\n",
    "\n",
    "plt.tight_layout()\n",
    "plt.show()\n",
    "\n"
   ]
  },
  {
   "cell_type": "code",
   "execution_count": null,
   "id": "003c1d6c-771c-4cf5-bc48-b9a66997ad5d",
   "metadata": {},
   "outputs": [],
   "source": [
    "### Cross Validation"
   ]
  },
  {
   "cell_type": "code",
   "execution_count": null,
   "id": "e1a57212-424a-498a-9d34-725e9c560f1b",
   "metadata": {},
   "outputs": [],
   "source": [
    "cv_results = {\n",
    "    \"Logistic Regression\": cross_val_score(log_reg, X, y, cv=5).mean(),\n",
    "    \"Decision Tree\": cross_val_score(dt, X, y, cv=5).mean(),\n",
    "    \"Random Forest\": cross_val_score(rf, X, y, cv=5).mean(),\n",
    "    \"XGBoost\": cross_val_score(xgb, X, y, cv=5).mean()\n",
    "}\n",
    "print(\"Cross Validation Scores\")\n",
    "for model, score in cv_results.items():\n",
    "    print(f\"{model}: {score:.4f}\")\n"
   ]
  },
  {
   "cell_type": "code",
   "execution_count": null,
   "id": "6b42a236-3bf7-4751-bc1c-dbcf28f0117b",
   "metadata": {},
   "outputs": [],
   "source": [
    "from sklearn.model_selection import cross_validate\n",
    "from sklearn.metrics import make_scorer, accuracy_score, precision_score, recall_score, f1_score, roc_auc_score\n",
    "\n",
    "# Define scorers\n",
    "scoring = {\n",
    "    'accuracy': make_scorer(accuracy_score),\n",
    "    'precision': make_scorer(precision_score),\n",
    "    'recall': make_scorer(recall_score),\n",
    "    'f1': make_scorer(f1_score),\n",
    "    'roc_auc': make_scorer(roc_auc_score)\n",
    "}\n",
    "\n",
    "models = {\n",
    "    \"Logistic Regression\": LogisticRegression(max_iter=500),\n",
    "    \"Decision Tree\": DecisionTreeClassifier(),\n",
    "    \"Random Forest\": RandomForestClassifier(),\n",
    "    \"XGBoost\": XGBClassifier(eval_metric='logloss')\n",
    "}\n",
    "\n",
    "results = {}\n",
    "\n",
    "for name, model in models.items():\n",
    "    scores = cross_validate(model, X_train, y_train, cv=5, scoring=scoring)\n",
    "    results[name] = {\n",
    "        'Accuracy': scores['test_accuracy'].mean(),\n",
    "        'Precision': scores['test_precision'].mean(),\n",
    "        'Recall': scores['test_recall'].mean(),\n",
    "        'F1-score': scores['test_f1'].mean(),\n",
    "        'ROC-AUC': scores['test_roc_auc'].mean()\n",
    "    }\n",
    "results"
   ]
  },
  {
   "cell_type": "code",
   "execution_count": null,
   "id": "ebae9ea1-38a1-43d0-97be-3461eaf8c76f",
   "metadata": {},
   "outputs": [],
   "source": [
    "import pandas as pd\n",
    "\n",
    "results_df = pd.DataFrame(results).T  # transpose to make models rows\n",
    "results_df = results_df.round(3)      # round for readability\n",
    "print(results_df)\n"
   ]
  },
  {
   "cell_type": "code",
   "execution_count": null,
   "id": "31de28a2-3718-439e-8030-cd651f58fb30",
   "metadata": {},
   "outputs": [],
   "source": [
    "results_df.plot(kind='bar', figsize=(12,6))\n",
    "plt.title(\"Model Comparison\")\n",
    "plt.ylabel(\"Score\")\n",
    "plt.show()\n"
   ]
  },
  {
   "cell_type": "code",
   "execution_count": null,
   "id": "704054b4-0bf6-4ada-b1fe-4afab15178de",
   "metadata": {},
   "outputs": [],
   "source": [
    "feature_importances = pd.Series(xgb.feature_importances_, index=X_train.columns)\n",
    "feature_importances.nlargest(10).plot(kind='barh')\n",
    "plt.title(\"Top 10 Features (XGBoost)\")\n",
    "plt.show()\n"
   ]
  },
  {
   "cell_type": "code",
   "execution_count": null,
   "id": "234fe4ce-1e60-4dec-b387-661cee60dde1",
   "metadata": {},
   "outputs": [],
   "source": []
  },
  {
   "cell_type": "code",
   "execution_count": null,
   "id": "b7f22d91-fd45-4201-af2e-7d61c1349e21",
   "metadata": {},
   "outputs": [],
   "source": []
  }
 ],
 "metadata": {
  "kernelspec": {
   "display_name": "Python 3 (ipykernel)",
   "language": "python",
   "name": "python3"
  },
  "language_info": {
   "codemirror_mode": {
    "name": "ipython",
    "version": 3
   },
   "file_extension": ".py",
   "mimetype": "text/x-python",
   "name": "python",
   "nbconvert_exporter": "python",
   "pygments_lexer": "ipython3",
   "version": "3.13.2"
  }
 },
 "nbformat": 4,
 "nbformat_minor": 5
}
